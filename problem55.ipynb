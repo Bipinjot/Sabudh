{
 "cells": [
  {
   "cell_type": "code",
   "execution_count": 1,
   "metadata": {},
   "outputs": [],
   "source": [
    "import numpy as np\n",
    "import time"
   ]
  },
  {
   "cell_type": "code",
   "execution_count": 2,
   "metadata": {},
   "outputs": [],
   "source": [
    "count=9"
   ]
  },
  {
   "cell_type": "code",
   "execution_count": 3,
   "metadata": {},
   "outputs": [
    {
     "name": "stdout",
     "output_type": "stream",
     "text": [
      "249\n",
      "0.09248661994934082\n"
     ]
    }
   ],
   "source": [
    "start=time.time()\n",
    "for num in range(10,10001):\n",
    "    n=num\n",
    "    for i in range(0,25):\n",
    "        n_rev=str(n)[::-1]\n",
    "        \n",
    "        \n",
    "        res= n+int(n_rev)\n",
    "        \n",
    "        res_rev=str(res)[::-1]\n",
    "        \n",
    "        if str(res)==res_rev:\n",
    "            count=count+1\n",
    "          \n",
    "            break\n",
    "        else:\n",
    "            n=res\n",
    "            continue\n",
    "            \n",
    "count_lychrel=10000-count\n",
    "print(count_lychrel)\n",
    "end=time.time()\n",
    "print(end-start)"
   ]
  },
  {
   "cell_type": "code",
   "execution_count": null,
   "metadata": {},
   "outputs": [],
   "source": []
  }
 ],
 "metadata": {
  "kernelspec": {
   "display_name": "Python 3",
   "language": "python",
   "name": "python3"
  },
  "language_info": {
   "codemirror_mode": {
    "name": "ipython",
    "version": 3
   },
   "file_extension": ".py",
   "mimetype": "text/x-python",
   "name": "python",
   "nbconvert_exporter": "python",
   "pygments_lexer": "ipython3",
   "version": "3.6.5"
  }
 },
 "nbformat": 4,
 "nbformat_minor": 2
}
